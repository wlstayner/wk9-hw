{
 "cells": [
  {
   "cell_type": "markdown",
   "id": "bb333aa4",
   "metadata": {},
   "source": [
    "# NYC traffic accidents over a 4 year period \n",
    "## Filter and Subset\n",
    "\n",
    "Download <a href=\"https://www.dropbox.com/s/585wrgl08djzlyt/accidents-nyc.csv?dl=0\">this dataset</a> stored on dropbox."
   ]
  },
  {
   "cell_type": "code",
   "execution_count": 83,
   "id": "3a4e3c74",
   "metadata": {},
   "outputs": [],
   "source": [
    "import pandas as pd"
   ]
  },
  {
   "cell_type": "code",
   "execution_count": 84,
   "id": "506891bb",
   "metadata": {},
   "outputs": [
    {
     "data": {
      "text/html": [
       "<div>\n",
       "<style scoped>\n",
       "    .dataframe tbody tr th:only-of-type {\n",
       "        vertical-align: middle;\n",
       "    }\n",
       "\n",
       "    .dataframe tbody tr th {\n",
       "        vertical-align: top;\n",
       "    }\n",
       "\n",
       "    .dataframe thead th {\n",
       "        text-align: right;\n",
       "    }\n",
       "</style>\n",
       "<table border=\"1\" class=\"dataframe\">\n",
       "  <thead>\n",
       "    <tr style=\"text-align: right;\">\n",
       "      <th></th>\n",
       "      <th>CRASH DATE</th>\n",
       "      <th>CRASH TIME</th>\n",
       "      <th>BOROUGH</th>\n",
       "      <th>NUMBER OF PERSONS INJURED</th>\n",
       "      <th>NUMBER OF PERSONS KILLED</th>\n",
       "      <th>NUMBER OF PEDESTRIANS INJURED</th>\n",
       "      <th>NUMBER OF PEDESTRIANS KILLED</th>\n",
       "      <th>NUMBER OF CYCLIST INJURED</th>\n",
       "      <th>NUMBER OF CYCLIST KILLED</th>\n",
       "      <th>NUMBER OF MOTORIST INJURED</th>\n",
       "      <th>NUMBER OF MOTORIST KILLED</th>\n",
       "      <th>CONTRIBUTING FACTOR VEHICLE 1</th>\n",
       "      <th>CONTRIBUTING FACTOR VEHICLE 2</th>\n",
       "      <th>COLLISION_ID</th>\n",
       "      <th>VEHICLE TYPE CODE 1</th>\n",
       "      <th>VEHICLE TYPE CODE 2</th>\n",
       "    </tr>\n",
       "  </thead>\n",
       "  <tbody>\n",
       "    <tr>\n",
       "      <th>0</th>\n",
       "      <td>4/13/21</td>\n",
       "      <td>21:35</td>\n",
       "      <td>BROOKLYN</td>\n",
       "      <td>1</td>\n",
       "      <td>0</td>\n",
       "      <td>1</td>\n",
       "      <td>0</td>\n",
       "      <td>0</td>\n",
       "      <td>0</td>\n",
       "      <td>0</td>\n",
       "      <td>0</td>\n",
       "      <td>Unspecified</td>\n",
       "      <td>NaN</td>\n",
       "      <td>4407147</td>\n",
       "      <td>Sedan</td>\n",
       "      <td>NaN</td>\n",
       "    </tr>\n",
       "    <tr>\n",
       "      <th>1</th>\n",
       "      <td>4/13/21</td>\n",
       "      <td>16:00</td>\n",
       "      <td>BROOKLYN</td>\n",
       "      <td>0</td>\n",
       "      <td>0</td>\n",
       "      <td>0</td>\n",
       "      <td>0</td>\n",
       "      <td>0</td>\n",
       "      <td>0</td>\n",
       "      <td>0</td>\n",
       "      <td>0</td>\n",
       "      <td>Following Too Closely</td>\n",
       "      <td>Unspecified</td>\n",
       "      <td>4407811</td>\n",
       "      <td>Sedan</td>\n",
       "      <td>NaN</td>\n",
       "    </tr>\n",
       "    <tr>\n",
       "      <th>2</th>\n",
       "      <td>4/13/21</td>\n",
       "      <td>17:30</td>\n",
       "      <td>QUEENS</td>\n",
       "      <td>0</td>\n",
       "      <td>0</td>\n",
       "      <td>0</td>\n",
       "      <td>0</td>\n",
       "      <td>0</td>\n",
       "      <td>0</td>\n",
       "      <td>0</td>\n",
       "      <td>0</td>\n",
       "      <td>Driver Inattention/Distraction</td>\n",
       "      <td>Unspecified</td>\n",
       "      <td>4408019</td>\n",
       "      <td>Sedan</td>\n",
       "      <td>Sedan</td>\n",
       "    </tr>\n",
       "    <tr>\n",
       "      <th>3</th>\n",
       "      <td>4/11/21</td>\n",
       "      <td>21:06</td>\n",
       "      <td>BROOKLYN</td>\n",
       "      <td>1</td>\n",
       "      <td>0</td>\n",
       "      <td>1</td>\n",
       "      <td>0</td>\n",
       "      <td>0</td>\n",
       "      <td>0</td>\n",
       "      <td>0</td>\n",
       "      <td>0</td>\n",
       "      <td>Passing Too Closely</td>\n",
       "      <td>NaN</td>\n",
       "      <td>4406488</td>\n",
       "      <td>Taxi</td>\n",
       "      <td>NaN</td>\n",
       "    </tr>\n",
       "    <tr>\n",
       "      <th>4</th>\n",
       "      <td>4/15/21</td>\n",
       "      <td>20:00</td>\n",
       "      <td>STATEN ISLAND</td>\n",
       "      <td>0</td>\n",
       "      <td>0</td>\n",
       "      <td>0</td>\n",
       "      <td>0</td>\n",
       "      <td>0</td>\n",
       "      <td>0</td>\n",
       "      <td>0</td>\n",
       "      <td>0</td>\n",
       "      <td>Unspecified</td>\n",
       "      <td>NaN</td>\n",
       "      <td>4408310</td>\n",
       "      <td>Sedan</td>\n",
       "      <td>NaN</td>\n",
       "    </tr>\n",
       "    <tr>\n",
       "      <th>...</th>\n",
       "      <td>...</td>\n",
       "      <td>...</td>\n",
       "      <td>...</td>\n",
       "      <td>...</td>\n",
       "      <td>...</td>\n",
       "      <td>...</td>\n",
       "      <td>...</td>\n",
       "      <td>...</td>\n",
       "      <td>...</td>\n",
       "      <td>...</td>\n",
       "      <td>...</td>\n",
       "      <td>...</td>\n",
       "      <td>...</td>\n",
       "      <td>...</td>\n",
       "      <td>...</td>\n",
       "      <td>...</td>\n",
       "    </tr>\n",
       "    <tr>\n",
       "      <th>282868</th>\n",
       "      <td>1/1/19</td>\n",
       "      <td>19:00</td>\n",
       "      <td>BROOKLYN</td>\n",
       "      <td>0</td>\n",
       "      <td>0</td>\n",
       "      <td>0</td>\n",
       "      <td>0</td>\n",
       "      <td>0</td>\n",
       "      <td>0</td>\n",
       "      <td>0</td>\n",
       "      <td>0</td>\n",
       "      <td>Driver Inattention/Distraction</td>\n",
       "      <td>Unspecified</td>\n",
       "      <td>4060606</td>\n",
       "      <td>Ambulance</td>\n",
       "      <td>Sedan</td>\n",
       "    </tr>\n",
       "    <tr>\n",
       "      <th>282869</th>\n",
       "      <td>1/1/19</td>\n",
       "      <td>8:00</td>\n",
       "      <td>BRONX</td>\n",
       "      <td>0</td>\n",
       "      <td>0</td>\n",
       "      <td>0</td>\n",
       "      <td>0</td>\n",
       "      <td>0</td>\n",
       "      <td>0</td>\n",
       "      <td>0</td>\n",
       "      <td>0</td>\n",
       "      <td>Steering Failure</td>\n",
       "      <td>Unspecified</td>\n",
       "      <td>4060771</td>\n",
       "      <td>Pick-up Truck</td>\n",
       "      <td>Station Wagon/Sport Utility Vehicle</td>\n",
       "    </tr>\n",
       "    <tr>\n",
       "      <th>282870</th>\n",
       "      <td>1/1/19</td>\n",
       "      <td>3:30</td>\n",
       "      <td>BRONX</td>\n",
       "      <td>0</td>\n",
       "      <td>0</td>\n",
       "      <td>0</td>\n",
       "      <td>0</td>\n",
       "      <td>0</td>\n",
       "      <td>0</td>\n",
       "      <td>0</td>\n",
       "      <td>0</td>\n",
       "      <td>Unspecified</td>\n",
       "      <td>Unspecified</td>\n",
       "      <td>4060653</td>\n",
       "      <td>Pick-up Truck</td>\n",
       "      <td>Sedan</td>\n",
       "    </tr>\n",
       "    <tr>\n",
       "      <th>282871</th>\n",
       "      <td>1/1/19</td>\n",
       "      <td>19:30</td>\n",
       "      <td>BROOKLYN</td>\n",
       "      <td>0</td>\n",
       "      <td>0</td>\n",
       "      <td>0</td>\n",
       "      <td>0</td>\n",
       "      <td>0</td>\n",
       "      <td>0</td>\n",
       "      <td>0</td>\n",
       "      <td>0</td>\n",
       "      <td>Passing Too Closely</td>\n",
       "      <td>Unspecified</td>\n",
       "      <td>4268108</td>\n",
       "      <td>Tanker</td>\n",
       "      <td>Sedan</td>\n",
       "    </tr>\n",
       "    <tr>\n",
       "      <th>282872</th>\n",
       "      <td>1/1/19</td>\n",
       "      <td>12:00</td>\n",
       "      <td>MANHATTAN</td>\n",
       "      <td>0</td>\n",
       "      <td>0</td>\n",
       "      <td>0</td>\n",
       "      <td>0</td>\n",
       "      <td>0</td>\n",
       "      <td>0</td>\n",
       "      <td>0</td>\n",
       "      <td>0</td>\n",
       "      <td>Driver Inattention/Distraction</td>\n",
       "      <td>Unspecified</td>\n",
       "      <td>4060666</td>\n",
       "      <td>Sedan</td>\n",
       "      <td>NaN</td>\n",
       "    </tr>\n",
       "  </tbody>\n",
       "</table>\n",
       "<p>282873 rows × 16 columns</p>\n",
       "</div>"
      ],
      "text/plain": [
       "       CRASH DATE CRASH TIME        BOROUGH  NUMBER OF PERSONS INJURED  \\\n",
       "0         4/13/21      21:35       BROOKLYN                          1   \n",
       "1         4/13/21      16:00       BROOKLYN                          0   \n",
       "2         4/13/21      17:30         QUEENS                          0   \n",
       "3         4/11/21      21:06       BROOKLYN                          1   \n",
       "4         4/15/21      20:00  STATEN ISLAND                          0   \n",
       "...           ...        ...            ...                        ...   \n",
       "282868     1/1/19      19:00       BROOKLYN                          0   \n",
       "282869     1/1/19       8:00          BRONX                          0   \n",
       "282870     1/1/19       3:30          BRONX                          0   \n",
       "282871     1/1/19      19:30       BROOKLYN                          0   \n",
       "282872     1/1/19      12:00      MANHATTAN                          0   \n",
       "\n",
       "        NUMBER OF PERSONS KILLED  NUMBER OF PEDESTRIANS INJURED  \\\n",
       "0                              0                              1   \n",
       "1                              0                              0   \n",
       "2                              0                              0   \n",
       "3                              0                              1   \n",
       "4                              0                              0   \n",
       "...                          ...                            ...   \n",
       "282868                         0                              0   \n",
       "282869                         0                              0   \n",
       "282870                         0                              0   \n",
       "282871                         0                              0   \n",
       "282872                         0                              0   \n",
       "\n",
       "        NUMBER OF PEDESTRIANS KILLED  NUMBER OF CYCLIST INJURED  \\\n",
       "0                                  0                          0   \n",
       "1                                  0                          0   \n",
       "2                                  0                          0   \n",
       "3                                  0                          0   \n",
       "4                                  0                          0   \n",
       "...                              ...                        ...   \n",
       "282868                             0                          0   \n",
       "282869                             0                          0   \n",
       "282870                             0                          0   \n",
       "282871                             0                          0   \n",
       "282872                             0                          0   \n",
       "\n",
       "        NUMBER OF CYCLIST KILLED  NUMBER OF MOTORIST INJURED  \\\n",
       "0                              0                           0   \n",
       "1                              0                           0   \n",
       "2                              0                           0   \n",
       "3                              0                           0   \n",
       "4                              0                           0   \n",
       "...                          ...                         ...   \n",
       "282868                         0                           0   \n",
       "282869                         0                           0   \n",
       "282870                         0                           0   \n",
       "282871                         0                           0   \n",
       "282872                         0                           0   \n",
       "\n",
       "        NUMBER OF MOTORIST KILLED   CONTRIBUTING FACTOR VEHICLE 1  \\\n",
       "0                               0                     Unspecified   \n",
       "1                               0           Following Too Closely   \n",
       "2                               0  Driver Inattention/Distraction   \n",
       "3                               0             Passing Too Closely   \n",
       "4                               0                     Unspecified   \n",
       "...                           ...                             ...   \n",
       "282868                          0  Driver Inattention/Distraction   \n",
       "282869                          0                Steering Failure   \n",
       "282870                          0                     Unspecified   \n",
       "282871                          0             Passing Too Closely   \n",
       "282872                          0  Driver Inattention/Distraction   \n",
       "\n",
       "       CONTRIBUTING FACTOR VEHICLE 2  COLLISION_ID VEHICLE TYPE CODE 1  \\\n",
       "0                                NaN       4407147               Sedan   \n",
       "1                        Unspecified       4407811               Sedan   \n",
       "2                        Unspecified       4408019               Sedan   \n",
       "3                                NaN       4406488                Taxi   \n",
       "4                                NaN       4408310               Sedan   \n",
       "...                              ...           ...                 ...   \n",
       "282868                   Unspecified       4060606           Ambulance   \n",
       "282869                   Unspecified       4060771       Pick-up Truck   \n",
       "282870                   Unspecified       4060653       Pick-up Truck   \n",
       "282871                   Unspecified       4268108              Tanker   \n",
       "282872                   Unspecified       4060666               Sedan   \n",
       "\n",
       "                        VEHICLE TYPE CODE 2  \n",
       "0                                       NaN  \n",
       "1                                       NaN  \n",
       "2                                     Sedan  \n",
       "3                                       NaN  \n",
       "4                                       NaN  \n",
       "...                                     ...  \n",
       "282868                                Sedan  \n",
       "282869  Station Wagon/Sport Utility Vehicle  \n",
       "282870                                Sedan  \n",
       "282871                                Sedan  \n",
       "282872                                  NaN  \n",
       "\n",
       "[282873 rows x 16 columns]"
      ]
     },
     "execution_count": 84,
     "metadata": {},
     "output_type": "execute_result"
    }
   ],
   "source": [
    "crash_df = pd.read_csv(\"accidents-nyc.csv\")\n",
    "crash_df"
   ]
  },
  {
   "cell_type": "code",
   "execution_count": 85,
   "id": "d20d8cde",
   "metadata": {},
   "outputs": [
    {
     "name": "stdout",
     "output_type": "stream",
     "text": [
      "<class 'pandas.core.frame.DataFrame'>\n",
      "RangeIndex: 282873 entries, 0 to 282872\n",
      "Data columns (total 16 columns):\n",
      " #   Column                         Non-Null Count   Dtype \n",
      "---  ------                         --------------   ----- \n",
      " 0   CRASH DATE                     282873 non-null  object\n",
      " 1   CRASH TIME                     282873 non-null  object\n",
      " 2   BOROUGH                        282873 non-null  object\n",
      " 3   NUMBER OF PERSONS INJURED      282873 non-null  int64 \n",
      " 4   NUMBER OF PERSONS KILLED       282873 non-null  int64 \n",
      " 5   NUMBER OF PEDESTRIANS INJURED  282873 non-null  int64 \n",
      " 6   NUMBER OF PEDESTRIANS KILLED   282873 non-null  int64 \n",
      " 7   NUMBER OF CYCLIST INJURED      282873 non-null  int64 \n",
      " 8   NUMBER OF CYCLIST KILLED       282873 non-null  int64 \n",
      " 9   NUMBER OF MOTORIST INJURED     282873 non-null  int64 \n",
      " 10  NUMBER OF MOTORIST KILLED      282873 non-null  int64 \n",
      " 11  CONTRIBUTING FACTOR VEHICLE 1  281489 non-null  object\n",
      " 12  CONTRIBUTING FACTOR VEHICLE 2  224591 non-null  object\n",
      " 13  COLLISION_ID                   282873 non-null  int64 \n",
      " 14  VEHICLE TYPE CODE 1            279986 non-null  object\n",
      " 15  VEHICLE TYPE CODE 2            201168 non-null  object\n",
      "dtypes: int64(9), object(7)\n",
      "memory usage: 34.5+ MB\n"
     ]
    }
   ],
   "source": [
    "## see the overall info about this dataset\n",
    "crash_df.info()"
   ]
  },
  {
   "cell_type": "code",
   "execution_count": 89,
   "id": "0cad6845",
   "metadata": {},
   "outputs": [
    {
     "data": {
      "text/plain": [
       "0         4/13/21\n",
       "1         4/13/21\n",
       "2         4/13/21\n",
       "3         4/11/21\n",
       "4         4/15/21\n",
       "           ...   \n",
       "282868     1/1/19\n",
       "282869     1/1/19\n",
       "282870     1/1/19\n",
       "282871     1/1/19\n",
       "282872     1/1/19\n",
       "Name: CRASH DATE, Length: 282873, dtype: object"
      ]
     },
     "execution_count": 89,
     "metadata": {},
     "output_type": "execute_result"
    }
   ],
   "source": [
    "## create a series of crash dates.\n",
    "crash_df[\"CRASH DATE\"]"
   ]
  },
  {
   "cell_type": "code",
   "execution_count": 90,
   "id": "f2b6b17a",
   "metadata": {},
   "outputs": [
    {
     "data": {
      "text/plain": [
       "BROOKLYN         95099\n",
       "QUEENS           80085\n",
       "BRONX            50123\n",
       "MANHATTAN        48864\n",
       "STATEN ISLAND     8702\n",
       "Name: BOROUGH, dtype: int64"
      ]
     },
     "execution_count": 90,
     "metadata": {},
     "output_type": "execute_result"
    }
   ],
   "source": [
    "## Which borough had the most crashes?\n",
    "crash_df[\"BOROUGH\"].value_counts()"
   ]
  },
  {
   "cell_type": "code",
   "execution_count": 91,
   "id": "d556522d",
   "metadata": {},
   "outputs": [
    {
     "data": {
      "text/plain": [
       "Sedan                                  129987\n",
       "Station Wagon/Sport Utility Vehicle    102850\n",
       "Taxi                                    10647\n",
       "Pick-up Truck                            7183\n",
       "Box Truck                                5504\n",
       "Bus                                      4697\n",
       "Bike                                     3177\n",
       "Name: VEHICLE TYPE CODE 1, dtype: int64"
      ]
     },
     "execution_count": 91,
     "metadata": {},
     "output_type": "execute_result"
    }
   ],
   "source": [
    "## which type of vehicle was primary vehicle involved in crashes?\n",
    "## SHOW ONLY THE TOP 7\n",
    "\n",
    "\n",
    "crash_df[\"VEHICLE TYPE CODE 1\"].value_counts().head(7)"
   ]
  },
  {
   "cell_type": "code",
   "execution_count": 92,
   "id": "83dfc384",
   "metadata": {},
   "outputs": [
    {
     "data": {
      "text/plain": [
       "SLINGSHOT     1\n",
       "CHEVY EXPR    1\n",
       "Go kart       1\n",
       "FDNY Engin    1\n",
       "MAC T         1\n",
       "Name: VEHICLE TYPE CODE 1, dtype: int64"
      ]
     },
     "execution_count": 92,
     "metadata": {},
     "output_type": "execute_result"
    }
   ],
   "source": [
    "## What were a FIVE unusual primary vehicles to get into a crash?\n",
    "crash_df[\"VEHICLE TYPE CODE 1\"].value_counts().tail(5)\n",
    "                                                "
   ]
  },
  {
   "cell_type": "code",
   "execution_count": 133,
   "id": "8df45602",
   "metadata": {},
   "outputs": [],
   "source": [
    "## create a subset of data for only Queens\n",
    "## place it in a dataframe called df_q\n",
    "fil_q = crash_df[\"BOROUGH\"] == \"QUEENS\"\n",
    "df_q = crash_df[fil_q]"
   ]
  },
  {
   "cell_type": "code",
   "execution_count": 134,
   "id": "f7eee32b",
   "metadata": {},
   "outputs": [
    {
     "data": {
      "text/plain": [
       "428"
      ]
     },
     "execution_count": 134,
     "metadata": {},
     "output_type": "execute_result"
    }
   ],
   "source": [
    "## CHALLENGE (as in you have to google this)\n",
    "## How many people were killed in Queens in accidents?\n",
    "df_q[\"NUMBER OF PERSONS KILLED\"].sum()"
   ]
  },
  {
   "cell_type": "code",
   "execution_count": 136,
   "id": "be6822f8",
   "metadata": {},
   "outputs": [
    {
     "data": {
      "text/plain": [
       "52"
      ]
     },
     "execution_count": 136,
     "metadata": {},
     "output_type": "execute_result"
    }
   ],
   "source": [
    "## Same\n",
    "## how many cyclists were killed in Queens?\n",
    "df_q[\"NUMBER OF CYCLIST KILLED\"].sum()"
   ]
  },
  {
   "cell_type": "code",
   "execution_count": 141,
   "id": "907f1f21",
   "metadata": {},
   "outputs": [
    {
     "name": "stdout",
     "output_type": "stream",
     "text": [
      "<class 'pandas.core.frame.DataFrame'>\n",
      "Int64Index: 0 entries\n",
      "Data columns (total 17 columns):\n",
      " #   Column                                                                                                                                                                                                                                                                                                                                                                                 Non-Null Count  Dtype \n",
      "---  ------                                                                                                                                                                                                                                                                                                                                                                                 --------------  ----- \n",
      " 0   CRASH DATE                                                                                                                                                                                                                                                                                                                                                                             0 non-null      object\n",
      " 1   CRASH TIME                                                                                                                                                                                                                                                                                                                                                                             0 non-null      object\n",
      " 2   BOROUGH                                                                                                                                                                                                                                                                                                                                                                                0 non-null      object\n",
      " 3   NUMBER OF PERSONS INJURED                                                                                                                                                                                                                                                                                                                                                              0 non-null      int64 \n",
      " 4   NUMBER OF PERSONS KILLED                                                                                                                                                                                                                                                                                                                                                               0 non-null      int64 \n",
      " 5   NUMBER OF PEDESTRIANS INJURED                                                                                                                                                                                                                                                                                                                                                          0 non-null      int64 \n",
      " 6   NUMBER OF PEDESTRIANS KILLED                                                                                                                                                                                                                                                                                                                                                           0 non-null      int64 \n",
      " 7   NUMBER OF CYCLIST INJURED                                                                                                                                                                                                                                                                                                                                                              0 non-null      int64 \n",
      " 8   NUMBER OF CYCLIST KILLED                                                                                                                                                                                                                                                                                                                                                               0 non-null      int64 \n",
      " 9   NUMBER OF MOTORIST INJURED                                                                                                                                                                                                                                                                                                                                                             0 non-null      int64 \n",
      " 10  NUMBER OF MOTORIST KILLED                                                                                                                                                                                                                                                                                                                                                              0 non-null      int64 \n",
      " 11  CONTRIBUTING FACTOR VEHICLE 1                                                                                                                                                                                                                                                                                                                                                          0 non-null      object\n",
      " 12  CONTRIBUTING FACTOR VEHICLE 2                                                                                                                                                                                                                                                                                                                                                          0 non-null      object\n",
      " 13  COLLISION_ID                                                                                                                                                                                                                                                                                                                                                                           0 non-null      int64 \n",
      " 14  VEHICLE TYPE CODE 1                                                                                                                                                                                                                                                                                                                                                                    0 non-null      object\n",
      " 15  VEHICLE TYPE CODE 2                                                                                                                                                                                                                                                                                                                                                                    0 non-null      object\n",
      " 16  (CRASH DATE, CRASH TIME, BOROUGH, NUMBER OF PERSONS INJURED, NUMBER OF PERSONS KILLED, NUMBER OF PEDESTRIANS INJURED, NUMBER OF PEDESTRIANS KILLED, NUMBER OF CYCLIST INJURED, NUMBER OF CYCLIST KILLED, NUMBER OF MOTORIST INJURED, NUMBER OF MOTORIST KILLED, CONTRIBUTING FACTOR VEHICLE 1, CONTRIBUTING FACTOR VEHICLE 2, COLLISION_ID, VEHICLE TYPE CODE 1, VEHICLE TYPE CODE 2)  0 non-null      object\n",
      "dtypes: int64(9), object(8)\n",
      "memory usage: 0.0+ bytes\n"
     ]
    }
   ],
   "source": [
    "## Filter and subset \n",
    "## create a dataset for Manhattan that involved taxi cabs as the primary vehicle cause\n",
    "fil_t = crash_df[\"VEHICLE TYPE CODE 1\"] == \"Taxi\"\n",
    "fil_m = crash_df[\"BOROUGH\"] == \"MANHATTAN\"\n",
    "df_m = crash_df[fil_t & fil_m]\n",
    "df_m.info()"
   ]
  },
  {
   "cell_type": "code",
   "execution_count": 60,
   "id": "32704f24",
   "metadata": {},
   "outputs": [
    {
     "data": {
      "text/plain": [
       "Unspecified                       78494\n",
       "Driver Inattention/Distraction    70615\n",
       "Failure to Yield Right-of-Way     20691\n",
       "Following Too Closely             14407\n",
       "Backing Unsafely                  13348\n",
       "Name: CONTRIBUTING FACTOR VEHICLE 1, dtype: int64"
      ]
     },
     "execution_count": 60,
     "metadata": {},
     "output_type": "execute_result"
    }
   ],
   "source": [
    "## What were the top 5 causes of accidents across all the boroughs?\n",
    "## by primary vehicle cause\n",
    "crash_df[\"CONTRIBUTING FACTOR VEHICLE 1\"].value_counts().head(5)"
   ]
  },
  {
   "cell_type": "code",
   "execution_count": 61,
   "id": "77e3122f",
   "metadata": {},
   "outputs": [
    {
     "data": {
      "text/plain": [
       "Unspecified                       190456\n",
       "Driver Inattention/Distraction     14186\n",
       "Other Vehicular                     3529\n",
       "Failure to Yield Right-of-Way       2233\n",
       "Passing or Lane Usage Improper      2171\n",
       "Name: CONTRIBUTING FACTOR VEHICLE 2, dtype: int64"
      ]
     },
     "execution_count": 61,
     "metadata": {},
     "output_type": "execute_result"
    }
   ],
   "source": [
    "## What were the top 5 causes of accidents across all the boroughs?\n",
    "## by secondary vehicle cause\n",
    "crash_df[\"CONTRIBUTING FACTOR VEHICLE 2\"].value_counts().head(5)"
   ]
  },
  {
   "cell_type": "code",
   "execution_count": 63,
   "id": "d524c89e",
   "metadata": {},
   "outputs": [
    {
     "data": {
      "text/plain": [
       "Shoulders Defective/Improper    13\n",
       "Texting                          8\n",
       "Cell Phone (hands-free)          8\n",
       "Windshield Inadequate            3\n",
       "Listening/Using Headphones       2\n",
       "Name: CONTRIBUTING FACTOR VEHICLE 1, dtype: int64"
      ]
     },
     "execution_count": 63,
     "metadata": {},
     "output_type": "execute_result"
    }
   ],
   "source": [
    "## What were the 5 RAREST causes for primary vehicles causing the accident\n",
    "crash_df[\"CONTRIBUTING FACTOR VEHICLE 1\"].value_counts().tail(5)"
   ]
  },
  {
   "cell_type": "code",
   "execution_count": 150,
   "id": "c67fbfac",
   "metadata": {},
   "outputs": [
    {
     "data": {
      "text/plain": [
       "array(['Unspecified', 'Following Too Closely',\n",
       "       'Driver Inattention/Distraction', 'Passing Too Closely',\n",
       "       'Passing or Lane Usage Improper', 'Driver Inexperience',\n",
       "       'Failure to Yield Right-of-Way', 'Turning Improperly',\n",
       "       'Unsafe Speed', 'Backing Unsafely', 'Steering Failure',\n",
       "       'Traffic Control Disregarded', 'Drugs (illegal)',\n",
       "       'Reaction to Uninvolved Vehicle', 'View Obstructed/Limited',\n",
       "       'Pedestrian/Bicyclist/Other Pedestrian Error/Confusion',\n",
       "       'Alcohol Involvement', 'Pavement Slippery', 'Brakes Defective',\n",
       "       'Oversized Vehicle', 'Animals Action', 'Unsafe Lane Changing',\n",
       "       'Outside Car Distraction', 'Illnes', 'Other Vehicular',\n",
       "       'Aggressive Driving/Road Rage', 'Fell Asleep',\n",
       "       'Tire Failure/Inadequate', 'Pavement Defective', nan,\n",
       "       'Lost Consciousness', 'Accelerator Defective',\n",
       "       'Passenger Distraction', 'Glare', 'Eating or Drinking',\n",
       "       'Cell Phone (hands-free)', 'Lane Marking Improper/Inadequate',\n",
       "       'Obstruction/Debris', 'Failure to Keep Right',\n",
       "       'Using On Board Navigation Device', 'Fatigued/Drowsy',\n",
       "       'Physical Disability', 'Cell Phone (hand-Held)',\n",
       "       'Headlights Defective', 'Tinted Windows', 'Vehicle Vandalism',\n",
       "       'Driverless/Runaway Vehicle', 'Prescription Medication', 'Texting',\n",
       "       'Traffic Control Device Improper/Non-Working',\n",
       "       'Tow Hitch Defective', 'Shoulders Defective/Improper',\n",
       "       'Windshield Inadequate', 'Other Lighting Defects',\n",
       "       'Other Electronic Device', 'Listening/Using Headphones'],\n",
       "      dtype=object)"
      ]
     },
     "execution_count": 150,
     "metadata": {},
     "output_type": "execute_result"
    }
   ],
   "source": [
    "## list ALL the causes as unique values (in other words, create a list of the causes)\n",
    "## WHAT ARE SOME UNUSUAL REASONS FOR ACCIDENTS?\n",
    "df_f1 = crash_df[\"CONTRIBUTING FACTOR VEHICLE 1\"]\n",
    "df_f2 = crash_df[\"CONTRIBUTING FACTOR VEHICLE 2\"]\n",
    "join_list = [df_f1, df_f2]\n",
    "pd.concat(join_list)\n",
    "df_u = pd.concat(join_list)\n",
    "df_u.unique()"
   ]
  },
  {
   "cell_type": "code",
   "execution_count": 151,
   "id": "3f7ad5c2",
   "metadata": {},
   "outputs": [
    {
     "data": {
      "text/plain": [
       "Shoulders Defective/Improper    14\n",
       "Cell Phone (hands-free)         11\n",
       "Texting                          9\n",
       "Listening/Using Headphones       8\n",
       "Windshield Inadequate            3\n",
       "dtype: int64"
      ]
     },
     "execution_count": 151,
     "metadata": {},
     "output_type": "execute_result"
    }
   ],
   "source": [
    "##Rare reasons\n",
    "df_u.value_counts().tail(5)"
   ]
  },
  {
   "cell_type": "code",
   "execution_count": null,
   "id": "f2767947",
   "metadata": {},
   "outputs": [],
   "source": []
  },
  {
   "cell_type": "code",
   "execution_count": null,
   "id": "f232162c",
   "metadata": {},
   "outputs": [],
   "source": []
  }
 ],
 "metadata": {
  "kernelspec": {
   "display_name": "Python 3 (ipykernel)",
   "language": "python",
   "name": "python3"
  },
  "language_info": {
   "codemirror_mode": {
    "name": "ipython",
    "version": 3
   },
   "file_extension": ".py",
   "mimetype": "text/x-python",
   "name": "python",
   "nbconvert_exporter": "python",
   "pygments_lexer": "ipython3",
   "version": "3.9.7"
  }
 },
 "nbformat": 4,
 "nbformat_minor": 5
}
